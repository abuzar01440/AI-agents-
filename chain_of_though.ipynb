{
  "nbformat": 4,
  "nbformat_minor": 0,
  "metadata": {
    "colab": {
      "provenance": [],
      "authorship_tag": "ABX9TyMWz2DwN+tDxP0gUCxvGcZt",
      "include_colab_link": true
    },
    "kernelspec": {
      "name": "python3",
      "display_name": "Python 3"
    },
    "language_info": {
      "name": "python"
    }
  },
  "cells": [
    {
      "cell_type": "markdown",
      "metadata": {
        "id": "view-in-github",
        "colab_type": "text"
      },
      "source": [
        "<a href=\"https://colab.research.google.com/github/abuzar01440/AI-agents-/blob/main/chain_of_though.ipynb\" target=\"_parent\"><img src=\"https://colab.research.google.com/assets/colab-badge.svg\" alt=\"Open In Colab\"/></a>"
      ]
    },
    {
      "cell_type": "code",
      "source": [
        "! pip install langchain_google_genai\n",
        "! pip install langgraph\n"
      ],
      "metadata": {
        "colab": {
          "base_uri": "https://localhost:8080/",
          "height": 1000
        },
        "id": "--ws21sa8A-u",
        "outputId": "feaf951d-e38f-4678-d669-d86abb12f08f"
      },
      "execution_count": 4,
      "outputs": [
        {
          "output_type": "stream",
          "name": "stdout",
          "text": [
            "Collecting langchain_google_genai\n",
            "  Downloading langchain_google_genai-2.1.6-py3-none-any.whl.metadata (7.0 kB)\n",
            "Collecting filetype<2.0.0,>=1.2.0 (from langchain_google_genai)\n",
            "  Downloading filetype-1.2.0-py2.py3-none-any.whl.metadata (6.5 kB)\n",
            "Collecting google-ai-generativelanguage<0.7.0,>=0.6.18 (from langchain_google_genai)\n",
            "  Downloading google_ai_generativelanguage-0.6.18-py3-none-any.whl.metadata (9.8 kB)\n",
            "Requirement already satisfied: langchain-core<0.4.0,>=0.3.66 in /usr/local/lib/python3.11/dist-packages (from langchain_google_genai) (0.3.67)\n",
            "Requirement already satisfied: pydantic<3,>=2 in /usr/local/lib/python3.11/dist-packages (from langchain_google_genai) (2.11.7)\n",
            "Requirement already satisfied: google-api-core!=2.0.*,!=2.1.*,!=2.10.*,!=2.2.*,!=2.3.*,!=2.4.*,!=2.5.*,!=2.6.*,!=2.7.*,!=2.8.*,!=2.9.*,<3.0.0,>=1.34.1 in /usr/local/lib/python3.11/dist-packages (from google-api-core[grpc]!=2.0.*,!=2.1.*,!=2.10.*,!=2.2.*,!=2.3.*,!=2.4.*,!=2.5.*,!=2.6.*,!=2.7.*,!=2.8.*,!=2.9.*,<3.0.0,>=1.34.1->google-ai-generativelanguage<0.7.0,>=0.6.18->langchain_google_genai) (2.25.1)\n",
            "Requirement already satisfied: google-auth!=2.24.0,!=2.25.0,<3.0.0,>=2.14.1 in /usr/local/lib/python3.11/dist-packages (from google-ai-generativelanguage<0.7.0,>=0.6.18->langchain_google_genai) (2.38.0)\n",
            "Requirement already satisfied: proto-plus<2.0.0,>=1.22.3 in /usr/local/lib/python3.11/dist-packages (from google-ai-generativelanguage<0.7.0,>=0.6.18->langchain_google_genai) (1.26.1)\n",
            "Requirement already satisfied: protobuf!=4.21.0,!=4.21.1,!=4.21.2,!=4.21.3,!=4.21.4,!=4.21.5,<7.0.0,>=3.20.2 in /usr/local/lib/python3.11/dist-packages (from google-ai-generativelanguage<0.7.0,>=0.6.18->langchain_google_genai) (5.29.5)\n",
            "Requirement already satisfied: langsmith>=0.3.45 in /usr/local/lib/python3.11/dist-packages (from langchain-core<0.4.0,>=0.3.66->langchain_google_genai) (0.4.4)\n",
            "Requirement already satisfied: tenacity!=8.4.0,<10.0.0,>=8.1.0 in /usr/local/lib/python3.11/dist-packages (from langchain-core<0.4.0,>=0.3.66->langchain_google_genai) (8.5.0)\n",
            "Requirement already satisfied: jsonpatch<2.0,>=1.33 in /usr/local/lib/python3.11/dist-packages (from langchain-core<0.4.0,>=0.3.66->langchain_google_genai) (1.33)\n",
            "Requirement already satisfied: PyYAML>=5.3 in /usr/local/lib/python3.11/dist-packages (from langchain-core<0.4.0,>=0.3.66->langchain_google_genai) (6.0.2)\n",
            "Requirement already satisfied: packaging<25,>=23.2 in /usr/local/lib/python3.11/dist-packages (from langchain-core<0.4.0,>=0.3.66->langchain_google_genai) (24.2)\n",
            "Requirement already satisfied: typing-extensions>=4.7 in /usr/local/lib/python3.11/dist-packages (from langchain-core<0.4.0,>=0.3.66->langchain_google_genai) (4.14.0)\n",
            "Requirement already satisfied: annotated-types>=0.6.0 in /usr/local/lib/python3.11/dist-packages (from pydantic<3,>=2->langchain_google_genai) (0.7.0)\n",
            "Requirement already satisfied: pydantic-core==2.33.2 in /usr/local/lib/python3.11/dist-packages (from pydantic<3,>=2->langchain_google_genai) (2.33.2)\n",
            "Requirement already satisfied: typing-inspection>=0.4.0 in /usr/local/lib/python3.11/dist-packages (from pydantic<3,>=2->langchain_google_genai) (0.4.1)\n",
            "Requirement already satisfied: googleapis-common-protos<2.0.0,>=1.56.2 in /usr/local/lib/python3.11/dist-packages (from google-api-core!=2.0.*,!=2.1.*,!=2.10.*,!=2.2.*,!=2.3.*,!=2.4.*,!=2.5.*,!=2.6.*,!=2.7.*,!=2.8.*,!=2.9.*,<3.0.0,>=1.34.1->google-api-core[grpc]!=2.0.*,!=2.1.*,!=2.10.*,!=2.2.*,!=2.3.*,!=2.4.*,!=2.5.*,!=2.6.*,!=2.7.*,!=2.8.*,!=2.9.*,<3.0.0,>=1.34.1->google-ai-generativelanguage<0.7.0,>=0.6.18->langchain_google_genai) (1.70.0)\n",
            "Requirement already satisfied: requests<3.0.0,>=2.18.0 in /usr/local/lib/python3.11/dist-packages (from google-api-core!=2.0.*,!=2.1.*,!=2.10.*,!=2.2.*,!=2.3.*,!=2.4.*,!=2.5.*,!=2.6.*,!=2.7.*,!=2.8.*,!=2.9.*,<3.0.0,>=1.34.1->google-api-core[grpc]!=2.0.*,!=2.1.*,!=2.10.*,!=2.2.*,!=2.3.*,!=2.4.*,!=2.5.*,!=2.6.*,!=2.7.*,!=2.8.*,!=2.9.*,<3.0.0,>=1.34.1->google-ai-generativelanguage<0.7.0,>=0.6.18->langchain_google_genai) (2.32.3)\n",
            "Requirement already satisfied: grpcio<2.0.0,>=1.33.2 in /usr/local/lib/python3.11/dist-packages (from google-api-core[grpc]!=2.0.*,!=2.1.*,!=2.10.*,!=2.2.*,!=2.3.*,!=2.4.*,!=2.5.*,!=2.6.*,!=2.7.*,!=2.8.*,!=2.9.*,<3.0.0,>=1.34.1->google-ai-generativelanguage<0.7.0,>=0.6.18->langchain_google_genai) (1.73.1)\n",
            "Requirement already satisfied: grpcio-status<2.0.0,>=1.33.2 in /usr/local/lib/python3.11/dist-packages (from google-api-core[grpc]!=2.0.*,!=2.1.*,!=2.10.*,!=2.2.*,!=2.3.*,!=2.4.*,!=2.5.*,!=2.6.*,!=2.7.*,!=2.8.*,!=2.9.*,<3.0.0,>=1.34.1->google-ai-generativelanguage<0.7.0,>=0.6.18->langchain_google_genai) (1.71.2)\n",
            "Requirement already satisfied: cachetools<6.0,>=2.0.0 in /usr/local/lib/python3.11/dist-packages (from google-auth!=2.24.0,!=2.25.0,<3.0.0,>=2.14.1->google-ai-generativelanguage<0.7.0,>=0.6.18->langchain_google_genai) (5.5.2)\n",
            "Requirement already satisfied: pyasn1-modules>=0.2.1 in /usr/local/lib/python3.11/dist-packages (from google-auth!=2.24.0,!=2.25.0,<3.0.0,>=2.14.1->google-ai-generativelanguage<0.7.0,>=0.6.18->langchain_google_genai) (0.4.2)\n",
            "Requirement already satisfied: rsa<5,>=3.1.4 in /usr/local/lib/python3.11/dist-packages (from google-auth!=2.24.0,!=2.25.0,<3.0.0,>=2.14.1->google-ai-generativelanguage<0.7.0,>=0.6.18->langchain_google_genai) (4.9.1)\n",
            "Requirement already satisfied: jsonpointer>=1.9 in /usr/local/lib/python3.11/dist-packages (from jsonpatch<2.0,>=1.33->langchain-core<0.4.0,>=0.3.66->langchain_google_genai) (3.0.0)\n",
            "Requirement already satisfied: httpx<1,>=0.23.0 in /usr/local/lib/python3.11/dist-packages (from langsmith>=0.3.45->langchain-core<0.4.0,>=0.3.66->langchain_google_genai) (0.28.1)\n",
            "Requirement already satisfied: orjson<4.0.0,>=3.9.14 in /usr/local/lib/python3.11/dist-packages (from langsmith>=0.3.45->langchain-core<0.4.0,>=0.3.66->langchain_google_genai) (3.10.18)\n",
            "Requirement already satisfied: requests-toolbelt<2.0.0,>=1.0.0 in /usr/local/lib/python3.11/dist-packages (from langsmith>=0.3.45->langchain-core<0.4.0,>=0.3.66->langchain_google_genai) (1.0.0)\n",
            "Requirement already satisfied: zstandard<0.24.0,>=0.23.0 in /usr/local/lib/python3.11/dist-packages (from langsmith>=0.3.45->langchain-core<0.4.0,>=0.3.66->langchain_google_genai) (0.23.0)\n",
            "Requirement already satisfied: anyio in /usr/local/lib/python3.11/dist-packages (from httpx<1,>=0.23.0->langsmith>=0.3.45->langchain-core<0.4.0,>=0.3.66->langchain_google_genai) (4.9.0)\n",
            "Requirement already satisfied: certifi in /usr/local/lib/python3.11/dist-packages (from httpx<1,>=0.23.0->langsmith>=0.3.45->langchain-core<0.4.0,>=0.3.66->langchain_google_genai) (2025.6.15)\n",
            "Requirement already satisfied: httpcore==1.* in /usr/local/lib/python3.11/dist-packages (from httpx<1,>=0.23.0->langsmith>=0.3.45->langchain-core<0.4.0,>=0.3.66->langchain_google_genai) (1.0.9)\n",
            "Requirement already satisfied: idna in /usr/local/lib/python3.11/dist-packages (from httpx<1,>=0.23.0->langsmith>=0.3.45->langchain-core<0.4.0,>=0.3.66->langchain_google_genai) (3.10)\n",
            "Requirement already satisfied: h11>=0.16 in /usr/local/lib/python3.11/dist-packages (from httpcore==1.*->httpx<1,>=0.23.0->langsmith>=0.3.45->langchain-core<0.4.0,>=0.3.66->langchain_google_genai) (0.16.0)\n",
            "Requirement already satisfied: pyasn1<0.7.0,>=0.6.1 in /usr/local/lib/python3.11/dist-packages (from pyasn1-modules>=0.2.1->google-auth!=2.24.0,!=2.25.0,<3.0.0,>=2.14.1->google-ai-generativelanguage<0.7.0,>=0.6.18->langchain_google_genai) (0.6.1)\n",
            "Requirement already satisfied: charset-normalizer<4,>=2 in /usr/local/lib/python3.11/dist-packages (from requests<3.0.0,>=2.18.0->google-api-core!=2.0.*,!=2.1.*,!=2.10.*,!=2.2.*,!=2.3.*,!=2.4.*,!=2.5.*,!=2.6.*,!=2.7.*,!=2.8.*,!=2.9.*,<3.0.0,>=1.34.1->google-api-core[grpc]!=2.0.*,!=2.1.*,!=2.10.*,!=2.2.*,!=2.3.*,!=2.4.*,!=2.5.*,!=2.6.*,!=2.7.*,!=2.8.*,!=2.9.*,<3.0.0,>=1.34.1->google-ai-generativelanguage<0.7.0,>=0.6.18->langchain_google_genai) (3.4.2)\n",
            "Requirement already satisfied: urllib3<3,>=1.21.1 in /usr/local/lib/python3.11/dist-packages (from requests<3.0.0,>=2.18.0->google-api-core!=2.0.*,!=2.1.*,!=2.10.*,!=2.2.*,!=2.3.*,!=2.4.*,!=2.5.*,!=2.6.*,!=2.7.*,!=2.8.*,!=2.9.*,<3.0.0,>=1.34.1->google-api-core[grpc]!=2.0.*,!=2.1.*,!=2.10.*,!=2.2.*,!=2.3.*,!=2.4.*,!=2.5.*,!=2.6.*,!=2.7.*,!=2.8.*,!=2.9.*,<3.0.0,>=1.34.1->google-ai-generativelanguage<0.7.0,>=0.6.18->langchain_google_genai) (2.4.0)\n",
            "Requirement already satisfied: sniffio>=1.1 in /usr/local/lib/python3.11/dist-packages (from anyio->httpx<1,>=0.23.0->langsmith>=0.3.45->langchain-core<0.4.0,>=0.3.66->langchain_google_genai) (1.3.1)\n",
            "Downloading langchain_google_genai-2.1.6-py3-none-any.whl (47 kB)\n",
            "\u001b[2K   \u001b[90m━━━━━━━━━━━━━━━━━━━━━━━━━━━━━━━━━━━━━━━━\u001b[0m \u001b[32m47.4/47.4 kB\u001b[0m \u001b[31m1.6 MB/s\u001b[0m eta \u001b[36m0:00:00\u001b[0m\n",
            "\u001b[?25hDownloading filetype-1.2.0-py2.py3-none-any.whl (19 kB)\n",
            "Downloading google_ai_generativelanguage-0.6.18-py3-none-any.whl (1.4 MB)\n",
            "\u001b[2K   \u001b[90m━━━━━━━━━━━━━━━━━━━━━━━━━━━━━━━━━━━━━━━━\u001b[0m \u001b[32m1.4/1.4 MB\u001b[0m \u001b[31m18.5 MB/s\u001b[0m eta \u001b[36m0:00:00\u001b[0m\n",
            "\u001b[?25hInstalling collected packages: filetype, google-ai-generativelanguage, langchain_google_genai\n",
            "  Attempting uninstall: google-ai-generativelanguage\n",
            "    Found existing installation: google-ai-generativelanguage 0.6.15\n",
            "    Uninstalling google-ai-generativelanguage-0.6.15:\n",
            "      Successfully uninstalled google-ai-generativelanguage-0.6.15\n",
            "\u001b[31mERROR: pip's dependency resolver does not currently take into account all the packages that are installed. This behaviour is the source of the following dependency conflicts.\n",
            "google-generativeai 0.8.5 requires google-ai-generativelanguage==0.6.15, but you have google-ai-generativelanguage 0.6.18 which is incompatible.\u001b[0m\u001b[31m\n",
            "\u001b[0mSuccessfully installed filetype-1.2.0 google-ai-generativelanguage-0.6.18 langchain_google_genai-2.1.6\n"
          ]
        },
        {
          "output_type": "display_data",
          "data": {
            "application/vnd.colab-display-data+json": {
              "pip_warning": {
                "packages": [
                  "google"
                ]
              },
              "id": "50f7b5ffc14a4b5db78f7f182032fa1e"
            }
          },
          "metadata": {}
        },
        {
          "output_type": "stream",
          "name": "stdout",
          "text": [
            "Requirement already satisfied: langgraph in /usr/local/lib/python3.11/dist-packages (0.5.1)\n",
            "Requirement already satisfied: langchain-core>=0.1 in /usr/local/lib/python3.11/dist-packages (from langgraph) (0.3.67)\n",
            "Requirement already satisfied: langgraph-checkpoint<3.0.0,>=2.1.0 in /usr/local/lib/python3.11/dist-packages (from langgraph) (2.1.0)\n",
            "Requirement already satisfied: langgraph-prebuilt<0.6.0,>=0.5.0 in /usr/local/lib/python3.11/dist-packages (from langgraph) (0.5.2)\n",
            "Requirement already satisfied: langgraph-sdk<0.2.0,>=0.1.42 in /usr/local/lib/python3.11/dist-packages (from langgraph) (0.1.72)\n",
            "Requirement already satisfied: pydantic>=2.7.4 in /usr/local/lib/python3.11/dist-packages (from langgraph) (2.11.7)\n",
            "Requirement already satisfied: xxhash>=3.5.0 in /usr/local/lib/python3.11/dist-packages (from langgraph) (3.5.0)\n",
            "Requirement already satisfied: langsmith>=0.3.45 in /usr/local/lib/python3.11/dist-packages (from langchain-core>=0.1->langgraph) (0.4.4)\n",
            "Requirement already satisfied: tenacity!=8.4.0,<10.0.0,>=8.1.0 in /usr/local/lib/python3.11/dist-packages (from langchain-core>=0.1->langgraph) (8.5.0)\n",
            "Requirement already satisfied: jsonpatch<2.0,>=1.33 in /usr/local/lib/python3.11/dist-packages (from langchain-core>=0.1->langgraph) (1.33)\n",
            "Requirement already satisfied: PyYAML>=5.3 in /usr/local/lib/python3.11/dist-packages (from langchain-core>=0.1->langgraph) (6.0.2)\n",
            "Requirement already satisfied: packaging<25,>=23.2 in /usr/local/lib/python3.11/dist-packages (from langchain-core>=0.1->langgraph) (24.2)\n",
            "Requirement already satisfied: typing-extensions>=4.7 in /usr/local/lib/python3.11/dist-packages (from langchain-core>=0.1->langgraph) (4.14.0)\n",
            "Requirement already satisfied: ormsgpack>=1.10.0 in /usr/local/lib/python3.11/dist-packages (from langgraph-checkpoint<3.0.0,>=2.1.0->langgraph) (1.10.0)\n",
            "Requirement already satisfied: httpx>=0.25.2 in /usr/local/lib/python3.11/dist-packages (from langgraph-sdk<0.2.0,>=0.1.42->langgraph) (0.28.1)\n",
            "Requirement already satisfied: orjson>=3.10.1 in /usr/local/lib/python3.11/dist-packages (from langgraph-sdk<0.2.0,>=0.1.42->langgraph) (3.10.18)\n",
            "Requirement already satisfied: annotated-types>=0.6.0 in /usr/local/lib/python3.11/dist-packages (from pydantic>=2.7.4->langgraph) (0.7.0)\n",
            "Requirement already satisfied: pydantic-core==2.33.2 in /usr/local/lib/python3.11/dist-packages (from pydantic>=2.7.4->langgraph) (2.33.2)\n",
            "Requirement already satisfied: typing-inspection>=0.4.0 in /usr/local/lib/python3.11/dist-packages (from pydantic>=2.7.4->langgraph) (0.4.1)\n",
            "Requirement already satisfied: anyio in /usr/local/lib/python3.11/dist-packages (from httpx>=0.25.2->langgraph-sdk<0.2.0,>=0.1.42->langgraph) (4.9.0)\n",
            "Requirement already satisfied: certifi in /usr/local/lib/python3.11/dist-packages (from httpx>=0.25.2->langgraph-sdk<0.2.0,>=0.1.42->langgraph) (2025.6.15)\n",
            "Requirement already satisfied: httpcore==1.* in /usr/local/lib/python3.11/dist-packages (from httpx>=0.25.2->langgraph-sdk<0.2.0,>=0.1.42->langgraph) (1.0.9)\n",
            "Requirement already satisfied: idna in /usr/local/lib/python3.11/dist-packages (from httpx>=0.25.2->langgraph-sdk<0.2.0,>=0.1.42->langgraph) (3.10)\n",
            "Requirement already satisfied: h11>=0.16 in /usr/local/lib/python3.11/dist-packages (from httpcore==1.*->httpx>=0.25.2->langgraph-sdk<0.2.0,>=0.1.42->langgraph) (0.16.0)\n",
            "Requirement already satisfied: jsonpointer>=1.9 in /usr/local/lib/python3.11/dist-packages (from jsonpatch<2.0,>=1.33->langchain-core>=0.1->langgraph) (3.0.0)\n",
            "Requirement already satisfied: requests<3,>=2 in /usr/local/lib/python3.11/dist-packages (from langsmith>=0.3.45->langchain-core>=0.1->langgraph) (2.32.3)\n",
            "Requirement already satisfied: requests-toolbelt<2.0.0,>=1.0.0 in /usr/local/lib/python3.11/dist-packages (from langsmith>=0.3.45->langchain-core>=0.1->langgraph) (1.0.0)\n",
            "Requirement already satisfied: zstandard<0.24.0,>=0.23.0 in /usr/local/lib/python3.11/dist-packages (from langsmith>=0.3.45->langchain-core>=0.1->langgraph) (0.23.0)\n",
            "Requirement already satisfied: charset-normalizer<4,>=2 in /usr/local/lib/python3.11/dist-packages (from requests<3,>=2->langsmith>=0.3.45->langchain-core>=0.1->langgraph) (3.4.2)\n",
            "Requirement already satisfied: urllib3<3,>=1.21.1 in /usr/local/lib/python3.11/dist-packages (from requests<3,>=2->langsmith>=0.3.45->langchain-core>=0.1->langgraph) (2.4.0)\n",
            "Requirement already satisfied: sniffio>=1.1 in /usr/local/lib/python3.11/dist-packages (from anyio->httpx>=0.25.2->langgraph-sdk<0.2.0,>=0.1.42->langgraph) (1.3.1)\n"
          ]
        }
      ]
    },
    {
      "cell_type": "code",
      "execution_count": 44,
      "metadata": {
        "colab": {
          "base_uri": "https://localhost:8080/"
        },
        "id": "xh1Ll8QI7dEY",
        "outputId": "78c4e830-8fce-4086-f8f2-c3d753a48074"
      },
      "outputs": [
        {
          "output_type": "stream",
          "name": "stdout",
          "text": [
            "Import Done\n"
          ]
        }
      ],
      "source": [
        "import langchain\n",
        "import langgraph\n",
        "from langchain import LLMChain, PromptTemplate\n",
        "from langchain_google_genai import ChatGoogleGenerativeAI\n",
        "\n",
        "print(\"Import Done\")"
      ]
    },
    {
      "cell_type": "code",
      "source": [
        "import getpass\n",
        "import os\n",
        "\n",
        "if \"GOOGLE_API_KEY\" not in os.environ:\n",
        "    os.environ[\"GOOGLE_API_KEY\"] = getpass.getpass(\"Enter your Google AI API key: \")"
      ],
      "metadata": {
        "colab": {
          "base_uri": "https://localhost:8080/"
        },
        "id": "9O5ypWgo7y1j",
        "outputId": "111c3eda-571a-4a33-9a3b-c4e6ea5482b4"
      },
      "execution_count": 9,
      "outputs": [
        {
          "name": "stdout",
          "output_type": "stream",
          "text": [
            "Enter your Google AI API key: ··········\n"
          ]
        }
      ]
    },
    {
      "cell_type": "code",
      "source": [
        "\n",
        "llm = ChatGoogleGenerativeAI(\n",
        "    model=\"gemini-1.5-flash\",\n",
        "    temperature=0.7,\n",
        "    max_tokens=312,\n",
        "    timeout=60,\n",
        "    max_retries=3\n",
        ")"
      ],
      "metadata": {
        "id": "XfgMofaB9myq"
      },
      "execution_count": 10,
      "outputs": []
    },
    {
      "cell_type": "code",
      "source": [
        "# user input\n",
        "user_query = input(\"Please enter your prompt here: \")\n",
        "\n",
        "\n",
        "template_1 = PromptTemplate(\n",
        "    input_variables=[\"user_query\"],\n",
        "    template=user_query\n",
        ")\n",
        "\n",
        "template_2 = PromptTemplate(\n",
        "    input_variables=[\"initial_output\"],\n",
        "    template=\"Explain the actual intent behind this query: {initial_output}\"\n",
        ")\n",
        "\n",
        "template_3 = PromptTemplate(\n",
        "    input_variables=[\"explained_query\"],\n",
        "    template=\"Provide a comprehensive answer to: {explained_query}\"\n",
        ")\n",
        "\n",
        "# Create chains\n",
        "chain_1 = LLMChain(llm=llm, prompt=template_1)\n",
        "chain_2 = LLMChain(llm=llm, prompt=template_2)\n",
        "chain_3 = LLMChain(llm=llm, prompt=template_3)\n",
        "\n",
        "def chain_of_thought(user_input):\n",
        "    # Execute with PROPER input formats\n",
        "    res1 = chain_1.invoke({\"user_query\": user_input})\n",
        "    res2 = chain_2.invoke({\"initial_output\": res1[\"text\"]})\n",
        "    res3 = chain_3.invoke({\"explained_query\": res2[\"text\"]})\n",
        "\n",
        "    return res1[\"text\"], res2[\"text\"], res3[\"text\"]\n",
        "\n",
        "\n",
        "print(chain_of_thought(\"Which is semi-supervise and weak supervise learning in machine learning\"))"
      ],
      "metadata": {
        "colab": {
          "base_uri": "https://localhost:8080/"
        },
        "id": "u8KSTiT598kS",
        "outputId": "6f11ea4f-c4ae-4853-ce4d-d464a66c49ae"
      },
      "execution_count": 11,
      "outputs": [
        {
          "output_type": "stream",
          "name": "stdout",
          "text": [
            "Please enter your prompt here: Which is semi-supervise and weak supervise learning in machine learning\n",
            "('Semi-supervised learning and weak supervised learning are both approaches to training machine learning models that use less fully labeled data than traditional supervised learning.  However, they differ in *how* they use the limited labeled data:\\n\\n**Semi-Supervised Learning:**\\n\\n* **What it is:**  Semi-supervised learning uses a small amount of labeled data alongside a much larger amount of *unlabeled* data to train a model.  The algorithm leverages the structure and patterns in the unlabeled data to improve its performance beyond what could be achieved with the labeled data alone.\\n\\n* **How it works:**  Various techniques exist, but generally, the algorithm tries to learn a model that both fits the labeled data well and also produces a smooth or consistent decision boundary across the unlabeled data.  This often involves assumptions about the data distribution, such as cluster assumptions (data points close together are likely to have the same label).\\n\\n* **Example:** Imagine you\\'re training a model to classify images of cats and dogs. You have a small set of labeled images (some labeled \"cat,\" some \"dog\"), but a much larger set of unlabeled images.  A semi-supervised learning algorithm could use the labeled images to learn initial features and then use the unlabeled images to refine those features and improve the decision boundary, effectively learning from the overall structure of the cat and dog images.\\n\\n\\n**Weakly Supervised Learning:**\\n\\n* **What it is:** Weakly supervised learning uses labeled data that is *imperfect* or *incomplete*.', \"The intent of the query is to **clarify the distinction between semi-supervised learning and weakly supervised learning**.  While both aim to address the limitations of fully supervised learning by using less perfect or less abundant labeled data, they do so in fundamentally different ways:\\n\\n* **Semi-supervised learning** deals with the *quantity* of labeled data, using a small amount of high-quality labels and a large amount of unlabeled data. The focus is on leveraging the structure inherent in the unlabeled data to improve model performance.\\n\\n* **Weakly supervised learning** deals with the *quality* of labeled data, using a larger amount of labels that are noisy, incomplete, or imprecise.  The focus is on mitigating the impact of these imperfections on the model's learning process.\\n\\nThe query aims to highlight this crucial difference—one is about the *amount* of good labels, the other is about the *quality* of available labels—to avoid confusion between these two related but distinct approaches to machine learning.  The provided examples further illustrate this distinction.\", \"The core distinction between semi-supervised learning (SSL) and weakly supervised learning (WSL) lies in their approach to addressing the limitations of fully supervised learning. Both strive to overcome the challenges of limited or imperfect labeled data, but they tackle the problem from opposite angles:  SSL focuses on the *quantity* of labels, while WSL focuses on the *quality*.\\n\\n**Semi-Supervised Learning (SSL):  Quantity over Quality**\\n\\nSSL operates with a small amount of high-quality labeled data and a large amount of unlabeled data.  The key idea is to leverage the inherent structure and relationships within the unlabeled data to improve the model's learning.  The unlabeled data provides valuable information about the underlying data distribution, which can help the model generalize better and avoid overfitting to the limited labeled data.  Algorithms used in SSL often employ techniques like:\\n\\n* **Self-training:**  A model is trained on the labeled data, then used to predict labels for the unlabeled data.  Highly confident predictions are added to the labeled dataset, and the process is iterated.\\n* **Co-training:** Multiple models are trained on different views of the data (e.g., using different features), and they iteratively label each other's unlabeled data.\\n* **Consistency regularization:**  The model is trained to produce consistent predictions for the same data point under different perturbations (e.g., adding noise to the input).\\n* **Generative models:**  These models learn the underlying data distribution from\")\n"
          ]
        }
      ]
    },
    {
      "cell_type": "markdown",
      "source": [
        "('Semi-supervised learning and weak supervised learning are both approaches to training machine learning models that use less fully labeled data than traditional supervised learning.  However, they differ in *how* they use the limited labeled data:\\n\\n**Semi-Supervised Learning:**\\n\\n* **What it is:**  Semi-supervised learning uses a small amount of labeled data alongside a much larger amount of *unlabeled* data to train a model.  The algorithm leverages the structure and patterns in the unlabeled data to improve its performance beyond what could be achieved with the labeled data alone.\\n\\n* **How it works:**  Various techniques exist, but generally, the algorithm tries to learn a model that both fits the labeled data well and also produces a smooth or consistent decision boundary across the unlabeled data.  This often involves assumptions about the data distribution, such as cluster assumptions (data points close together are likely to have the same label).\\n\\n* **Example:** Imagine you\\'re training a model to classify images of cats and dogs. You have a small set of labeled images (some labeled \"cat,\" some \"dog\"), but a much larger set of unlabeled images.  A semi-supervised learning algorithm could use the labeled images to learn initial features and then use the unlabeled images to refine those features and improve the decision boundary, effectively learning from the overall structure of the cat and dog images.\\n\\n\\n**Weakly Supervised Learning:**\\n\\n* **What it is:** Weakly supervised learning uses labeled data that is *imperfect* or *incomplete*.', \"The intent of the query is to **clarify the distinction between semi-supervised learning and weakly supervised learning**.  While both aim to address the limitations of fully supervised learning by using less perfect or less abundant labeled data, they do so in fundamentally different ways:\\n\\n* **Semi-supervised learning** deals with the *quantity* of labeled data, using a small amount of high-quality labels and a large amount of unlabeled data. The focus is on leveraging the structure inherent in the unlabeled data to improve model performance.\\n\\n* **Weakly supervised learning** deals with the *quality* of labeled data, using a larger amount of labels that are noisy, incomplete, or imprecise.  The focus is on mitigating the impact of these imperfections on the model's learning process.\\n\\nThe query aims to highlight this crucial difference—one is about the *amount* of good labels, the other is about the *quality* of available labels—to avoid confusion between these two related but distinct approaches to machine learning.  The provided examples further illustrate this distinction.\", \"The core distinction between semi-supervised learning (SSL) and weakly supervised learning (WSL) lies in their approach to addressing the limitations of fully supervised learning. Both strive to overcome the challenges of limited or imperfect labeled data, but they tackle the problem from opposite angles:  SSL focuses on the *quantity* of labels, while WSL focuses on the *quality*.\\n\\n**Semi-Supervised Learning (SSL):  Quantity over Quality**\\n\\nSSL operates with a small amount of high-quality labeled data and a large amount of unlabeled data.  The key idea is to leverage the inherent structure and relationships within the unlabeled data to improve the model's learning.  The unlabeled data provides valuable information about the underlying data distribution, which can help the model generalize better and avoid overfitting to the limited labeled data.  Algorithms used in SSL often employ techniques like:\\n\\n* **Self-training:**  A model is trained on the labeled data, then used to predict labels for the unlabeled data.  Highly confident predictions are added to the labeled dataset, and the process is iterated.\\n* **Co-training:** Multiple models are trained on different views of the data (e.g., using different features), and they iteratively label each other's unlabeled data.\\n* **Consistency regularization:**  The model is trained to produce consistent predictions for the same data point under different perturbations (e.g., adding noise to the input).\\n* **Generative models:**  These models learn the underlying data distribution from\")\n",
        "\n"
      ],
      "metadata": {
        "id": "CUpuN9IYEakZ"
      }
    },
    {
      "cell_type": "code",
      "source": [],
      "metadata": {
        "id": "upQcUnjaEbOt"
      },
      "execution_count": null,
      "outputs": []
    },
    {
      "cell_type": "markdown",
      "source": [
        "# lets built chain of thought using LangGraph"
      ],
      "metadata": {
        "id": "Ea6XETIMFiQr"
      }
    },
    {
      "cell_type": "code",
      "source": [
        "import langgraph\n",
        "from typing import TypedDict, Annotated, List\n",
        "from langgraph.graph import StateGraph, START, END, add_messages\n",
        "import uuid\n",
        "from langchain_core.messages import AnyMessage, SystemMessage, HumanMessage, AIMessage\n",
        "from langchain_core.prompts import ChatPromptTemplate\n",
        "\n",
        ""
      ],
      "metadata": {
        "id": "TqXuIouJF1_g"
      },
      "execution_count": 45,
      "outputs": []
    },
    {
      "cell_type": "code",
      "source": [
        "class AgentState(TypedDict):\n",
        "    messages: Annotated[list[AnyMessage], add_messages]\n",
        "\n",
        "# 2. Define your prompt templates separately\n",
        "explain_prompt = ChatPromptTemplate.from_template(\n",
        "    \"\"\"Explain the following user query in a simple way:\n",
        "\n",
        "    {user_query}\"\"\"\n",
        ")\n",
        "\n",
        "answer_prompt = ChatPromptTemplate.from_template(\n",
        "    \"\"\"Based on the following explanation, provide a formal and detailed answer:\n",
        "\n",
        "    {explained_query}\"\"\"\n",
        ")\n",
        "\n",
        "\n",
        "# 3. Define the graph nodes\n",
        "def explain_query_node(state: AgentState):\n",
        "    # Get the last message (the user query)\n",
        "    last_message = state['messages'][-1]\n",
        "    prompt = explain_prompt.format(user_query=last_message.content)\n",
        "    response = llm.invoke(prompt)\n",
        "    return {\"messages\": [response]}\n",
        "\n",
        "def final_answer_node(state: AgentState):\n",
        "    # Get the last message (the explained query)\n",
        "    explained_query = state['messages'][-1].content\n",
        "    prompt = answer_prompt.format(explained_query=explained_query)\n",
        "    response = llm.invoke(prompt)\n",
        "    return {\"messages\": [response]}\n",
        "\n",
        "\n",
        "# 4. Build the graph\n",
        "graph = StateGraph(AgentState)\n",
        "graph.add_node(\"explain_query\", explain_query_node)\n",
        "graph.add_node(\"final_answer\", final_answer_node)\n",
        "\n",
        "graph.add_edge(START, \"explain_query\")\n",
        "graph.add_edge(\"explain_query\", \"final_answer\")\n",
        "graph.add_edge(\"final_answer\", END)\n",
        "\n",
        "app = graph.compile()"
      ],
      "metadata": {
        "id": "TEX1ElAyHaaW"
      },
      "execution_count": 46,
      "outputs": []
    },
    {
      "cell_type": "code",
      "source": [
        "from IPython.display import Image, display\n",
        "\n",
        "display(Image(app.get_graph().draw_mermaid_png()))"
      ],
      "metadata": {
        "colab": {
          "base_uri": "https://localhost:8080/",
          "height": 350
        },
        "id": "WoUZwGf1KW7C",
        "outputId": "5136eae4-d2b5-4c0b-ca05-5f9c9479dbf7"
      },
      "execution_count": 47,
      "outputs": [
        {
          "output_type": "display_data",
          "data": {
            "image/png": "[encoded data removed]",
            "text/plain": [
              "<IPython.core.display.Image object>"
            ]
          },
          "metadata": {}
        }
      ]
    },
    {
      "cell_type": "markdown",
      "source": [
        "### YOU can make it more complicated like following the difficult task"
      ],
      "metadata": {
        "id": "uBVg-FPWQ93I"
      }
    },
    {
      "cell_type": "code",
      "source": [
        "# 5. Run the graph\n",
        "user_query = input(\"Please Enter your Query here! \")\n",
        "initial_input = {\"messages\": [HumanMessage(content=user_query)]}\n",
        "\n",
        "final_state = app.invoke(initial_input)\n",
        "\n",
        "# 6. Print the final answer correctly\n",
        "final_answer = final_state['messages'][-1].content\n",
        "\n",
        "print(\"\\nFinal Answer:\")\n",
        "print(final_answer)\n",
        "print(\"--\" * 30)"
      ],
      "metadata": {
        "colab": {
          "base_uri": "https://localhost:8080/"
        },
        "id": "K5jw6DsbLXqT",
        "outputId": "12eaab7a-929f-4f61-899f-a01bc4707cb1"
      },
      "execution_count": 48,
      "outputs": [
        {
          "output_type": "stream",
          "name": "stdout",
          "text": [
            "Please Enter your Query here! what is the main difference between semi supervise learning and weak supervise learning in ML\n",
            "\n",
            "Final Answer:\n",
            "Semi-supervised learning and weakly supervised learning are both machine learning paradigms that address the challenge of limited labeled data, but they differ fundamentally in their approach.  While both leverage information beyond perfectly labeled datasets, the nature and quantity of this information distinguish them.\n",
            "\n",
            "**Semi-supervised learning (SSL)** operates on a dataset comprised of a small amount of labeled data and a significantly larger amount of unlabeled data. The core principle of SSL is to leverage the structure inherent within the unlabeled data to improve the performance of a model trained on the limited labeled data.  The unlabeled data acts as a regularizer, guiding the model to learn a decision boundary that is both consistent with the labeled data and reflects the underlying distribution of the unlabeled data.  This is achieved through various techniques, such as self-training, co-training, and graph-based methods, all of which aim to iteratively improve model accuracy by incorporating information from the unlabeled data while remaining consistent with the labeled examples. The assumption underlying SSL is that the unlabeled data shares the same underlying distribution as the labeled data, allowing for generalization beyond the limited labeled set.\n",
            "\n",
            "**Weakly supervised learning (WSL)**, on the other hand, primarily utilizes labeled data, but the quality of these labels is compromised.  This imperfection can manifest in several ways:  noisy labels (incorrect classifications), incomplete labels (partial or ambiguous annotations), or imprecise labels (lack of fine-grained detail).  The challenge in WSL lies in learning an accurate model despite the inherent uncertainty and inaccuracies\n",
            "------------------------------------------------------------\n"
          ]
        }
      ]
    },
    {
      "cell_type": "markdown",
      "source": [
        "Semi-supervised learning and weakly supervised learning are both machine learning paradigms that address the challenge of limited labeled data, but they differ fundamentally in their approach.  While both leverage information beyond perfectly labeled datasets, the nature and quantity of this information distinguish them.\n",
        "\n",
        "**Semi-supervised learning (SSL)** operates on a dataset comprised of a small amount of labeled data and a significantly larger amount of unlabeled data. The core principle of SSL is to leverage the structure inherent within the unlabeled data to improve the performance of a model trained on the limited labeled data.  The unlabeled data acts as a regularizer, guiding the model to learn a decision boundary that is both consistent with the labeled data and reflects the underlying distribution of the unlabeled data.  This is achieved through various techniques, such as self-training, co-training, and graph-based methods, all of which aim to iteratively improve model accuracy by incorporating information from the unlabeled data while remaining consistent with the labeled examples. The assumption underlying SSL is that the unlabeled data shares the same underlying distribution as the labeled data, allowing for generalization beyond the limited labeled set.\n",
        "\n",
        "**Weakly supervised learning (WSL)**, on the other hand, primarily utilizes labeled data, but the quality of these labels is compromised.  This imperfection can manifest in several ways:  noisy labels (incorrect classifications), incomplete labels (partial or ambiguous annotations), or imprecise labels (lack of fine-grained detail).  The challenge in WSL lies in learning an accurate model despite the inherent uncertainty and inaccuracies\n",
        "------------------------------------------------------------\n"
      ],
      "metadata": {
        "id": "R5wYtcXgQBn4"
      }
    },
    {
      "cell_type": "code",
      "source": [
        "\n",
        "\n",
        "user_query = \"what is the main difference between semi supervise learning and weak supervise learning in ML\"\n",
        "initial_input = {\"messages\": [HumanMessage(content=user_query)]}\n",
        "\n",
        "print(\"Streaming graph execution...\")\n",
        "print(\"--\" * 30)\n",
        "\n",
        "for event in app.stream(initial_input):\n",
        "    # The event key is the name of the node that just ran\n",
        "    node_name = list(event.keys())[0]\n",
        "    node_output = event[node_name]\n",
        "\n",
        "    print(f\"✅ Output from node: '{node_name}'\")\n",
        "    print(node_output)\n",
        "    print(\"--\" * 30)\n",
        "\n",
        "    # Specifically check for the explanation step\n",
        "    if node_name == \"explain_query\":\n",
        "        explained_query_message = node_output['messages'][0]\n",
        "        print(\"\\n✨ EXPLANATION OF INITIAL QUERY ✨\")\n",
        "        print(explained_query_message.content)\n",
        "        print(\"--\" * 30)"
      ],
      "metadata": {
        "colab": {
          "base_uri": "https://localhost:8080/"
        },
        "id": "TbTvV5YDP4lX",
        "outputId": "def93cb6-2fe9-483c-a517-756fb9865f18"
      },
      "execution_count": 50,
      "outputs": [
        {
          "output_type": "stream",
          "name": "stdout",
          "text": [
            "Streaming graph execution...\n",
            "------------------------------------------------------------\n",
            "✅ Output from node: 'explain_query'\n",
            "{'messages': [AIMessage(content='The main difference between semi-supervised and weakly supervised learning lies in the *type* of extra information you give the machine learning model beyond the usual labeled data.\\n\\n* **Semi-supervised learning:**  You have a small amount of *fully labeled* data (e.g., pictures of cats labeled \"cat\") and a large amount of *unlabeled* data (e.g., many more pictures of cats without labels). The model learns from both, using the labeled data to \"understand\" the unlabeled data.\\n\\n* **Weakly supervised learning:** You have a large amount of data, but the labels are *noisy*, *incomplete*, or *indirect*.  For example, you might have pictures of cats with inaccurate labels (\"maybe a cat?\"), or labels that are only partially descriptive (\"furry animal\"). The model learns to deal with these imperfect labels.\\n\\n\\nIn short: Semi-supervised learning uses some *perfect* labels and lots of *no labels*, while weakly supervised learning uses lots of labels that are *imperfect* in some way.', additional_kwargs={}, response_metadata={'prompt_feedback': {'block_reason': 0, 'safety_ratings': []}, 'finish_reason': 'STOP', 'model_name': 'gemini-1.5-flash', 'safety_ratings': []}, id='run--e73140e2-d822-42ba-a6b1-749bb39680cb-0', usage_metadata={'input_tokens': 31, 'output_tokens': 216, 'total_tokens': 247, 'input_token_details': {'cache_read': 0}})]}\n",
            "------------------------------------------------------------\n",
            "\n",
            "✨ EXPLANATION OF INITIAL QUERY ✨\n",
            "The main difference between semi-supervised and weakly supervised learning lies in the *type* of extra information you give the machine learning model beyond the usual labeled data.\n",
            "\n",
            "* **Semi-supervised learning:**  You have a small amount of *fully labeled* data (e.g., pictures of cats labeled \"cat\") and a large amount of *unlabeled* data (e.g., many more pictures of cats without labels). The model learns from both, using the labeled data to \"understand\" the unlabeled data.\n",
            "\n",
            "* **Weakly supervised learning:** You have a large amount of data, but the labels are *noisy*, *incomplete*, or *indirect*.  For example, you might have pictures of cats with inaccurate labels (\"maybe a cat?\"), or labels that are only partially descriptive (\"furry animal\"). The model learns to deal with these imperfect labels.\n",
            "\n",
            "\n",
            "In short: Semi-supervised learning uses some *perfect* labels and lots of *no labels*, while weakly supervised learning uses lots of labels that are *imperfect* in some way.\n",
            "------------------------------------------------------------\n",
            "✅ Output from node: 'final_answer'\n",
            "{'messages': [AIMessage(content=\"Semi-supervised learning and weakly supervised learning are both machine learning paradigms that leverage additional information beyond a purely supervised learning setting, where all data points are fully and accurately labeled.  However, they differ fundamentally in the *nature* of this supplementary information.\\n\\n**Semi-supervised learning** utilizes a training dataset composed of two distinct parts: a relatively small set of accurately labeled instances and a significantly larger set of unlabeled instances.  The labeled data provides explicit ground truth for the model to learn from, while the unlabeled data acts as a source of additional information to improve the model's generalization capabilities and robustness. The core principle is to exploit the structure inherent in the unlabeled data to improve the learning process.  This often involves techniques such as self-training, co-training, or generative models to infer labels for the unlabeled data and subsequently incorporate this inferred information into the learning process.  The quality of the labeled data is paramount; it is assumed to be perfectly accurate and representative of the underlying data distribution.  The focus lies in leveraging the abundance of unlabeled data to mitigate the limitations imposed by a scarcity of labeled examples.\\n\\n**Weakly supervised learning**, in contrast, uses a large amount of data with labels that are imperfect or incomplete.  The imperfection can manifest in several ways:\\n\\n* **Noisy labels:**  Labels may contain errors or inaccuracies, reflecting human annotation mistakes or inherent ambiguity in the data.\\n* **Incomplete labels:**  Labels might be partially descriptive, missing key attributes, or only providing coarse-grained classifications\", additional_kwargs={}, response_metadata={'prompt_feedback': {'block_reason': 0, 'safety_ratings': []}, 'finish_reason': 'MAX_TOKENS', 'model_name': 'gemini-1.5-flash', 'safety_ratings': []}, id='run--f2451a22-d70c-4f43-95a1-70d123f37a2a-0', usage_metadata={'input_tokens': 234, 'output_tokens': 312, 'total_tokens': 546, 'input_token_details': {'cache_read': 0}})]}\n",
            "------------------------------------------------------------\n"
          ]
        }
      ]
    },
    {
      "cell_type": "markdown",
      "source": [
        "eaming graph execution...\n",
        "------------------------------------------------------------\n",
        "✅ Output from node: 'explain_query'\n",
        "{'messages': [AIMessage(content='The main difference between semi-supervised and weakly supervised learning lies in the *type* of extra information you give the machine learning model beyond the usual labeled data.\\n\\n* **Semi-supervised learning:**  You have a small amount of *fully labeled* data (e.g., pictures of cats labeled \"cat\") and a large amount of *unlabeled* data (e.g., many more pictures of cats without labels). The model learns from both, using the labeled data to \"understand\" the unlabeled data.\\n\\n* **Weakly supervised learning:** You have a large amount of data, but the labels are *noisy*, *incomplete*, or *indirect*.  For example, you might have pictures of cats with inaccurate labels (\"maybe a cat?\"), or labels that are only partially descriptive (\"furry animal\"). The model learns to deal with these imperfect labels.\\n\\n\\nIn short: Semi-supervised learning uses some *perfect* labels and lots of *no labels*, while weakly supervised learning uses lots of labels that are *imperfect* in some way.', additional_kwargs={}, response_metadata={'prompt_feedback': {'block_reason': 0, 'safety_ratings': []}, 'finish_reason': 'STOP', 'model_name': 'gemini-1.5-flash', 'safety_ratings': []}, id='run--e73140e2-d822-42ba-a6b1-749bb39680cb-0', usage_metadata={'input_tokens': 31, 'output_tokens': 216, 'total_tokens': 247, 'input_token_details': {'cache_read': 0}})]}\n",
        "------------------------------------------------------------\n",
        "\n",
        "✨ EXPLANATION OF INITIAL QUERY ✨\n",
        "The main difference between semi-supervised and weakly supervised learning lies in the *type* of extra information you give the machine learning model beyond the usual labeled data.\n",
        "\n",
        "* **Semi-supervised learning:**  You have a small amount of *fully labeled* data (e.g., pictures of cats labeled \"cat\") and a large amount of *unlabeled* data (e.g., many more pictures of cats without labels). The model learns from both, using the labeled data to \"understand\" the unlabeled data.\n",
        "\n",
        "* **Weakly supervised learning:** You have a large amount of data, but the labels are *noisy*, *incomplete*, or *indirect*.  For example, you might have pictures of cats with inaccurate labels (\"maybe a cat?\"), or labels that are only partially descriptive (\"furry animal\"). The model learns to deal with these imperfect labels.\n",
        "\n",
        "\n",
        "In short: Semi-supervised learning uses some *perfect* labels and lots of *no labels*, while weakly supervised learning uses lots of labels that are *imperfect* in some way.\n",
        "------------------------------------------------------------\n",
        "✅ Output from node: 'final_answer'\n",
        "{'messages': [AIMessage(content=\"Semi-supervised learning and weakly supervised learning are both machine learning paradigms that leverage additional information beyond a purely supervised learning setting, where all data points are fully and accurately labeled.  However, they differ fundamentally in the *nature* of this supplementary information.\\n\\n**Semi-supervised learning** utilizes a training dataset composed of two distinct parts: a relatively small set of accurately labeled instances and a significantly larger set of unlabeled instances.  The labeled data provides explicit ground truth for the model to learn from, while the unlabeled data acts as a source of additional information to improve the model's generalization capabilities and robustness. The core principle is to exploit the structure inherent in the unlabeled data to improve the learning process.  This often involves techniques such as self-training, co-training, or generative models to infer labels for the unlabeled data and subsequently incorporate this inferred information into the learning process.  The quality of the labeled data is paramount; it is assumed to be perfectly accurate and representative of the underlying data distribution.  The focus lies in leveraging the abundance of unlabeled data to mitigate the limitations imposed by a scarcity of labeled examples.\\n\\n**Weakly supervised learning**, in contrast, uses a large amount of data with labels that are imperfect or incomplete.  The imperfection can manifest in several ways:\\n\\n* **Noisy labels:**  Labels may contain errors or inaccuracies, reflecting human annotation mistakes or inherent ambiguity in the data.\\n* **Incomplete labels:**  Labels might be partially descriptive, missing key attributes, or only providing coarse-grained classifications\", additional_kwargs={}, response_metadata={'prompt_feedback': {'block_reason': 0, 'safety_ratings': []}, 'finish_reason': 'MAX_TOKENS', 'model_name': 'gemini-1.5-flash', 'safety_ratings': []}, id='run--f2451a22-d70c-4f43-95a1-70d123f37a2a-0', usage_metadata={'input_tokens': 234, 'output_tokens': 312, 'total_tokens': 546, 'input_token_details': {'cache_read': 0}})]}\n",
        "------------------------------------------------------------"
      ],
      "metadata": {
        "id": "L8JfEHFcQyFD"
      }
    },
    {
      "cell_type": "code",
      "source": [],
      "metadata": {
        "id": "GvjH8vZNLpT3"
      },
      "execution_count": null,
      "outputs": []
    }
  ]
}